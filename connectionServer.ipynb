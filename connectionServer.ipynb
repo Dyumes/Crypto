{
 "cells": [
  {
   "cell_type": "code",
   "execution_count": 4,
   "metadata": {},
   "outputs": [
    {
     "name": "stdout",
     "output_type": "stream",
     "text": [
      "Trying to connect to the server...\n",
      "Connection successful\n",
      "Message sent: Hello\n",
      "Server's response: b'ISCt\\x00\\x05\\x00\\x00\\x00H\\x00\\x00\\x00e\\x00\\x00\\x00l\\x00\\x00\\x00l\\x00\\x00\\x00o'\n",
      "Connection closed\n"
     ]
    }
   ],
   "source": [
    "import socket\n",
    "import struct\n",
    "\n",
    "SERVER_ADDRESS = \"vlbelintrocrypto.hevs.ch\"\n",
    "SERVER_PORT = 6000\n",
    "\n",
    "sock = socket.socket(socket.AF_INET, socket.SOCK_STREAM)\n",
    "\n",
    "try:\n",
    "    print(\"Trying to connect to the server...\")\n",
    "    sock.connect((SERVER_ADDRESS, SERVER_PORT))\n",
    "    print(\"Connection successful\")\n",
    "\n",
    "    message = \"Hello\"\n",
    "\n",
    "    \n",
    "    header = b\"ISCt\"  \n",
    "    length = struct.pack(\">H\", len(message))  \n",
    "    encoded_message = b\"\".join(struct.pack(\">I\", ord(c)) for c in message) \n",
    "\n",
    "    full_message = header + length + encoded_message\n",
    "\n",
    "    sock.sendall(full_message)\n",
    "    print(f\"Message sent: {message}\")\n",
    "\n",
    "    response = sock.recv(1024)\n",
    "    print(f\"Server's response: {response}\")\n",
    "\n",
    "except Exception as e:\n",
    "    print(f\"Error: {e}\")\n",
    "\n",
    "finally:\n",
    "    sock.close()\n",
    "    print(\"Connection closed\")\n"
   ]
  }
 ],
 "metadata": {
  "kernelspec": {
   "display_name": "Python 3",
   "language": "python",
   "name": "python3"
  },
  "language_info": {
   "codemirror_mode": {
    "name": "ipython",
    "version": 3
   },
   "file_extension": ".py",
   "mimetype": "text/x-python",
   "name": "python",
   "nbconvert_exporter": "python",
   "pygments_lexer": "ipython3",
   "version": "3.13.2"
  }
 },
 "nbformat": 4,
 "nbformat_minor": 2
}
